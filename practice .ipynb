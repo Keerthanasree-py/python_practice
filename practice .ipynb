{
  "nbformat": 4,
  "nbformat_minor": 0,
  "metadata": {
    "colab": {
      "provenance": []
    },
    "kernelspec": {
      "name": "python3",
      "display_name": "Python 3"
    },
    "language_info": {
      "name": "python"
    }
  },
  "cells": [
    {
      "cell_type": "markdown",
      "source": [
        "1.write rules for variables ?\n",
        "\n",
        "*  we can use aplha-numeric character\n",
        "*   case sensitive\n",
        "*   can't use with keywords\n",
        "*   can't use special charaacters\n",
        "*  can't starts with digits\n",
        "\n"
      ],
      "metadata": {
        "id": "e6LkzAmDRkf6"
      }
    },
    {
      "cell_type": "markdown",
      "source": [
        "2.type function?give example?\n",
        "\n",
        "type is to know which datatype stored in program varable the sentance is belong to"
      ],
      "metadata": {
        "id": "sXQCrgIJuFmm"
      }
    },
    {
      "cell_type": "code",
      "execution_count": null,
      "metadata": {
        "colab": {
          "base_uri": "https://localhost:8080/"
        },
        "id": "L6wEIbcyRiWP",
        "outputId": "d8542c7c-610b-4f3d-b6e4-fdd4da6d9921"
      },
      "outputs": [
        {
          "output_type": "stream",
          "name": "stdout",
          "text": [
            "<class 'str'>\n"
          ]
        }
      ],
      "source": [
        "str=\"water\"\n",
        "print(type(\"str\"))"
      ]
    },
    {
      "cell_type": "markdown",
      "source": [
        "3.what is difference blw = and ==?\n",
        "\n",
        "single = is equals to assign data  \n",
        "             \n",
        "double == is true of compare values for equality."
      ],
      "metadata": {
        "id": "h9wnXw0WTyBL"
      }
    },
    {
      "cell_type": "markdown",
      "source": [
        "4.what difference b/w mutable and immutable?\n",
        "\n",
        "mutable is changable the values or function in program after execution\n",
        "\n",
        "immutable is unchangable the values or function in program after execution"
      ],
      "metadata": {
        "id": "X6oIDHHHUOvP"
      }
    },
    {
      "cell_type": "markdown",
      "source": [
        "5.write a pyt code first 10 natural number using loop?"
      ],
      "metadata": {
        "id": "dOW3gpx-Xldi"
      }
    },
    {
      "cell_type": "code",
      "source": [
        "a=[1,2,3,4,5,6,7,8,9,10]\n",
        "for i in a:\n",
        "  print(i)"
      ],
      "metadata": {
        "colab": {
          "base_uri": "https://localhost:8080/"
        },
        "id": "ZA7nnUOMX03z",
        "outputId": "135a30ad-1f8f-4ed4-cd2c-d31647cdeb2e"
      },
      "execution_count": null,
      "outputs": [
        {
          "output_type": "stream",
          "name": "stdout",
          "text": [
            "1\n",
            "2\n",
            "3\n",
            "4\n",
            "5\n",
            "6\n",
            "7\n",
            "8\n",
            "9\n",
            "10\n"
          ]
        }
      ]
    },
    {
      "cell_type": "code",
      "source": [
        "num=int(input(\"enter the numbers:\"))\n",
        "i=1\n",
        "while i<=num:\n",
        "  print(i)\n",
        "  i+=1"
      ],
      "metadata": {
        "colab": {
          "base_uri": "https://localhost:8080/"
        },
        "id": "dQfjaZNlYFIA",
        "outputId": "77f49937-1bdf-4bed-d998-c933987bcee0"
      },
      "execution_count": 9,
      "outputs": [
        {
          "output_type": "stream",
          "name": "stdout",
          "text": [
            "enter the numbers:10\n",
            "1\n",
            "2\n",
            "3\n",
            "4\n",
            "5\n",
            "6\n",
            "7\n",
            "8\n",
            "9\n",
            "10\n"
          ]
        }
      ]
    },
    {
      "cell_type": "markdown",
      "source": [
        "6.write a python program sum of first 10 numbers?"
      ],
      "metadata": {
        "id": "HNMh9EZ1ZyII"
      }
    },
    {
      "cell_type": "code",
      "source": [
        "a=[1,2,3,4,5,6,7,8,9,10]\n",
        "count=0\n",
        "for i in a:\n",
        "  count+=i\n",
        "print(count)\n"
      ],
      "metadata": {
        "colab": {
          "base_uri": "https://localhost:8080/"
        },
        "id": "tj-sY58mZ-HO",
        "outputId": "c587de80-f400-495f-a467-36d14fa15b87"
      },
      "execution_count": 12,
      "outputs": [
        {
          "output_type": "stream",
          "name": "stdout",
          "text": [
            "55\n"
          ]
        }
      ]
    },
    {
      "cell_type": "code",
      "source": [
        "i=1\n",
        "sum=0\n",
        "while i<=10:\n",
        "  sum+=i\n",
        "  i+=1\n",
        "print(sum)"
      ],
      "metadata": {
        "id": "scAvnuoNcVRG",
        "colab": {
          "base_uri": "https://localhost:8080/"
        },
        "outputId": "933a4e93-42cf-4f69-ca52-01c9ea7fb2bf"
      },
      "execution_count": 13,
      "outputs": [
        {
          "output_type": "stream",
          "name": "stdout",
          "text": [
            "55\n"
          ]
        }
      ]
    }
  ]
}