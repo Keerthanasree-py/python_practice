{
  "nbformat": 4,
  "nbformat_minor": 0,
  "metadata": {
    "colab": {
      "provenance": []
    },
    "kernelspec": {
      "name": "python3",
      "display_name": "Python 3"
    },
    "language_info": {
      "name": "python"
    }
  },
  "cells": [
    {
      "cell_type": "markdown",
      "source": [
        "1.write a python code to given number is prime number or not?"
      ],
      "metadata": {
        "id": "wESnausNl9bL"
      }
    },
    {
      "cell_type": "code",
      "execution_count": null,
      "metadata": {
        "id": "mrKtVCEQGX3_",
        "colab": {
          "base_uri": "https://localhost:8080/"
        },
        "outputId": "4954ec2a-d791-4493-ba3f-6ae0a9c22631"
      },
      "outputs": [
        {
          "output_type": "stream",
          "name": "stdout",
          "text": [
            "Enter a number: 77\n",
            "77 is not a prime number.\n"
          ]
        }
      ],
      "source": [
        "class PrimeChecker:\n",
        "    def prime(self, num):\n",
        "        if num <= 1:\n",
        "            return False\n",
        "        for i in range(2, int(num ** 0.5) + 1):\n",
        "            if num % i == 0:\n",
        "                return False\n",
        "        return True\n",
        "\n",
        "    def display_result(self, num):\n",
        "        if self.prime(num):\n",
        "            print(f\"{num} is a prime number.\")\n",
        "        else:\n",
        "            print(f\"{num} is not a prime number.\")\n",
        "\n",
        "# Example usage:\n",
        "prime_checker = PrimeChecker()\n",
        "num = int(input(\"Enter a number: \"))\n",
        "prime_checker.display_result(num)\n"
      ]
    },
    {
      "cell_type": "markdown",
      "source": [
        "2.write a python code to print the following number pattern?\n",
        "  \n",
        "    1 1 1 1 1\n",
        "    2 2 2 2\n",
        "    3 3 3\n",
        "    4 4\n",
        "    5"
      ],
      "metadata": {
        "id": "ZymAZmaEIpye"
      }
    },
    {
      "cell_type": "code",
      "source": [
        "class NumberPattern:\n",
        "    def __init__(self, n):\n",
        "        self.n = n\n",
        "\n",
        "    def print_pattern(self):\n",
        "        for i in range(1, self.n + 1):\n",
        "             print(f\"{i}\" * (self.n + 1 - i))\n",
        "\n",
        "# Example usage:\n",
        "n = 5\n",
        "pattern = NumberPattern(n)\n",
        "pattern.print_pattern()"
      ],
      "metadata": {
        "id": "BGerD5WRIqMV",
        "colab": {
          "base_uri": "https://localhost:8080/"
        },
        "outputId": "1cf48627-0974-4de8-f692-85cb50d8e855"
      },
      "execution_count": null,
      "outputs": [
        {
          "output_type": "stream",
          "name": "stdout",
          "text": [
            "11111\n",
            "2222\n",
            "333\n",
            "44\n",
            "5\n"
          ]
        }
      ]
    },
    {
      "cell_type": "markdown",
      "source": [
        "3.write a pyt code to convert celsius to fahrenheit?"
      ],
      "metadata": {
        "id": "fSvzryB5Is2V"
      }
    },
    {
      "cell_type": "code",
      "source": [
        "class TemperatureConverter:\n",
        "    def __init__(self, celsius):\n",
        "        self.celsius = celsius\n",
        "\n",
        "    def to_fahrenheit(self):\n",
        "        return (self.celsius * 9/5) + 32\n",
        "\n",
        "    def display_conversion(self):\n",
        "        fahrenheit = self.to_fahrenheit()\n",
        "        print(f\"{self.celsius}°C is equal to {fahrenheit}°F\")\n",
        "\n",
        "celsius = float(input(\"Enter temperature in Celsius: \"))\n",
        "converter = TemperatureConverter(celsius)\n",
        "converter.display_conversion()\n"
      ],
      "metadata": {
        "id": "NjMf2eSqItLF",
        "colab": {
          "base_uri": "https://localhost:8080/"
        },
        "outputId": "bda96534-9e67-425c-e3f6-60a552cfde6e"
      },
      "execution_count": null,
      "outputs": [
        {
          "output_type": "stream",
          "name": "stdout",
          "text": [
            "Enter temperature in Celsius: 56\n",
            "56.0°C is equal to 132.8°F\n"
          ]
        }
      ]
    },
    {
      "cell_type": "markdown",
      "source": [
        "4.write a code to calculate the simple interest ?"
      ],
      "metadata": {
        "id": "mlhYmaWe3naI"
      }
    },
    {
      "cell_type": "code",
      "source": [
        "class SimpleInterestCalculator:\n",
        "    def __init__(self, principal, rate, time):\n",
        "        self.principal = principal\n",
        "        self.rate = rate\n",
        "        self.time = time\n",
        "\n",
        "    def calculate_interest(self):\n",
        "        return (self.principal * self.rate * self.time) / 100\n",
        "\n",
        "    def display_result(self):\n",
        "        interest = self.calculate_interest()\n",
        "        print(f\"Simple Interest: {interest}\")\n",
        "        print(f\"Total Amount: {self.principal + interest}\")\n",
        "\n",
        "principal = float(input(\"Enter principal amount: \"))\n",
        "rate = float(input(\"Enter interest rate (%): \"))\n",
        "time = float(input(\"Enter time (years): \"))\n",
        "\n",
        "calculator = SimpleInterestCalculator(principal, rate, time)\n",
        "calculator.display_result()\n"
      ],
      "metadata": {
        "id": "krr9t94-3npc",
        "colab": {
          "base_uri": "https://localhost:8080/"
        },
        "outputId": "8d120079-e53f-4484-acca-f1537ae2d46c"
      },
      "execution_count": null,
      "outputs": [
        {
          "output_type": "stream",
          "name": "stdout",
          "text": [
            "Enter principal amount: 1000\n",
            "Enter interest rate (%): 5\n",
            "Enter time (years): 2\n",
            "Simple Interest: 100.0\n",
            "Total Amount: 1100.0\n"
          ]
        }
      ]
    },
    {
      "cell_type": "markdown",
      "source": [
        "5.write a pyt code to convert integer to digit?"
      ],
      "metadata": {
        "id": "fJ3ZeWKL311V"
      }
    },
    {
      "cell_type": "code",
      "source": [
        "class IntegerToDigits:\n",
        "    def __init__(self, num):\n",
        "        self.num = num\n",
        "\n",
        "    def convert_to_digits(self):\n",
        "        return [int(d) for d in str(self.num)]\n",
        "\n",
        "# Example usage:\n",
        "num = int(input(\"Enter an integer: \"))\n",
        "converter = IntegerToDigits(num)\n",
        "digits = convert_to_digits()\n",
        "print(f\"The digits of {number} are: {digits}\")"
      ],
      "metadata": {
        "id": "qcfeQFcF32MY"
      },
      "execution_count": null,
      "outputs": []
    },
    {
      "cell_type": "markdown",
      "source": [
        "6.write a python code to given character is digit or not?"
      ],
      "metadata": {
        "id": "TiCJSkPy4eAw"
      }
    },
    {
      "cell_type": "code",
      "source": [
        "class DigitChecker:\n",
        "    def __init__(self, char):\n",
        "        self.char = char\n",
        "\n",
        "    def is_digit(self):\n",
        "        return self.char.isdigit()\n",
        "\n",
        "    def display_result(self):\n",
        "        if self.is_digit():\n",
        "            print(f\"'{self.char}' is a digit.\")\n",
        "        else:\n",
        "            print(f\"'{self.char}' is not a digit.\")\n",
        "\n",
        "char = input(\"Enter a character: \")\n",
        "checker = DigitChecker(char)\n",
        "checker.display_result()\n",
        "\n"
      ],
      "metadata": {
        "id": "-eoNQZ8t4eVx",
        "colab": {
          "base_uri": "https://localhost:8080/"
        },
        "outputId": "62040c72-8adf-459d-91c0-5cf3a31a2455"
      },
      "execution_count": null,
      "outputs": [
        {
          "output_type": "stream",
          "name": "stdout",
          "text": [
            "Enter a character: @#^&899\n",
            "'@#^&899' is not a digit.\n"
          ]
        }
      ]
    },
    {
      "cell_type": "markdown",
      "source": [
        "7.write a code number is armstrong or not?"
      ],
      "metadata": {
        "id": "5853Fv_Z41VX"
      }
    },
    {
      "cell_type": "code",
      "source": [
        "class ArmstrongChecker:\n",
        "    def __init__(self, num):\n",
        "        self.num = num\n",
        "\n",
        "    def is_armstrong(self):\n",
        "        temp = self.num\n",
        "        sum = 0\n",
        "        power = len(str(self.num))\n",
        "        while temp != 0:\n",
        "            digit = temp % 10\n",
        "            sum += digit ** power\n",
        "            temp //= 10\n",
        "        return sum == self.num\n",
        "\n",
        "    def display_result(self):\n",
        "        if self.is_armstrong():\n",
        "            print(f\"{self.num} is an Armstrong number.\")\n",
        "        else:\n",
        "            print(f\"{self.num} is not an Armstrong number.\")\n",
        "\n",
        "# Example usage:\n",
        "num = int(input(\"Enter a number: \"))\n",
        "checker = ArmstrongChecker(num)\n",
        "checker.display_result()\n",
        "\n"
      ],
      "metadata": {
        "id": "Vc5W16Ek47Jo",
        "colab": {
          "base_uri": "https://localhost:8080/"
        },
        "outputId": "dc6127ac-af81-4c34-e1ce-e15cfffafeae"
      },
      "execution_count": null,
      "outputs": [
        {
          "output_type": "stream",
          "name": "stdout",
          "text": [
            "Enter a number: 156\n",
            "156 is not an Armstrong number.\n"
          ]
        }
      ]
    },
    {
      "cell_type": "markdown",
      "source": [
        "9.write a python code to check non-repeating of first occurence char in string"
      ],
      "metadata": {
        "id": "neEh54Nd4-Sw"
      }
    },
    {
      "cell_type": "code",
      "source": [
        "class NonRepeatingChar:\n",
        "    def __init__(self, string):\n",
        "        self.string = string\n",
        "\n",
        "    def first_non_repeating(self):\n",
        "        char_count = {}\n",
        "        for char in self.string:\n",
        "            if char in char_count:\n",
        "                char_count[char] += 1\n",
        "            else:\n",
        "                char_count[char] = 1\n",
        "        for char in self.string:\n",
        "            if char_count[char] == 1:\n",
        "                return char\n",
        "        return None\n",
        "\n",
        "    def display_result(self):\n",
        "        char = self.first_non_repeating()\n",
        "        if char:\n",
        "            print(f\"First non-repeating character: {char}\")\n",
        "        else:\n",
        "            print(\"No non-repeating character found.\")\n",
        "\n",
        "# Example usage:\n",
        "string = input(\"Enter a string: \")\n",
        "checker = NonRepeatingChar(string)\n",
        "checker.display_result()\n"
      ],
      "metadata": {
        "id": "dlNjNYL07MQw",
        "colab": {
          "base_uri": "https://localhost:8080/"
        },
        "outputId": "028e4f0c-0cfa-46dc-b3be-0223b2860df4"
      },
      "execution_count": null,
      "outputs": [
        {
          "output_type": "stream",
          "name": "stdout",
          "text": [
            "Enter a string: welcome\n",
            "First non-repeating character: w\n"
          ]
        }
      ]
    },
    {
      "cell_type": "markdown",
      "source": [
        "10.write a python program to greatest common divisior"
      ],
      "metadata": {
        "id": "0ZFED83yACNq"
      }
    },
    {
      "cell_type": "code",
      "source": [
        "class GCDCalculator:\n",
        "    def __init__(self, num1, num2):\n",
        "        self.num1 = num1\n",
        "        self.num2 = num2\n",
        "\n",
        "    def calculate_gcd(self):\n",
        "        return self._gcd(self.num1, self.num2)\n",
        "\n",
        "    def _gcd(self, a, b):\n",
        "        while b:\n",
        "            a, b = b, a % b\n",
        "        return a\n",
        "\n",
        "def main():\n",
        "    print(\"Enter two numbers to find their GCD:\")\n",
        "    num1 = int(input(\"Number 1: \"))\n",
        "    num2 = int(input(\"Number 2: \"))\n",
        "\n",
        "    gcd_calculator = GCDCalculator(num1, num2)\n",
        "    result = gcd_calculator.calculate_gcd()\n",
        "\n",
        "    print(f\"The GCD of {num1} and {num2} is: {result}\")\n",
        "\n",
        "if __name__ == \"__main__\":\n",
        "    main()\n"
      ],
      "metadata": {
        "id": "yT_g_FPIACim",
        "colab": {
          "base_uri": "https://localhost:8080/"
        },
        "outputId": "2cdabc8c-abe0-4694-890a-87b3d648c289"
      },
      "execution_count": null,
      "outputs": [
        {
          "output_type": "stream",
          "name": "stdout",
          "text": [
            "Enter two numbers to find their GCD:\n",
            "Number 1: 5\n",
            "Number 2: 10\n",
            "The GCD of 5 and 10 is: 5\n"
          ]
        }
      ]
    },
    {
      "cell_type": "markdown",
      "source": [
        "11.write a code remove duplicates from a list?"
      ],
      "metadata": {
        "id": "ejb3k6VoWhfd"
      }
    },
    {
      "cell_type": "code",
      "source": [
        "class DuplicateRemover:\n",
        "    def __init__(self, input_list):\n",
        "        self.input_list = input_list  # The list from which duplicates will be removed\n",
        "\n",
        "    def remove_duplicates(self):\n",
        "        # Using a set to remove duplicates and returning a list\n",
        "        return list(set(self.input_list))\n",
        "\n",
        "# Taking user input for the list\n",
        "try:\n",
        "    # Example input: [1, 2, 3, 1, 2, 4]\n",
        "    user_input = input(\"Enter a list of numbers separated by commas: \")\n",
        "    input_list = [int(item.strip()) for item in user_input.split(',')]  # Convert input to a list of integers\n",
        "\n",
        "    remover = DuplicateRemover(input_list)\n",
        "    unique_list = remover.remove_duplicates()\n",
        "    print(f\"The list after removing duplicates is: {unique_list}\")"
      ],
      "metadata": {
        "id": "iVPTerBUWh3t",
        "colab": {
          "base_uri": "https://localhost:8080/",
          "height": 110
        },
        "outputId": "a76af698-3ab5-4920-f5f9-f5ef3d1621bd"
      },
      "execution_count": null,
      "outputs": [
        {
          "output_type": "error",
          "ename": "SyntaxError",
          "evalue": "incomplete input (<ipython-input-16-bb98c240aad3>, line 17)",
          "traceback": [
            "\u001b[0;36m  File \u001b[0;32m\"<ipython-input-16-bb98c240aad3>\"\u001b[0;36m, line \u001b[0;32m17\u001b[0m\n\u001b[0;31m    print(f\"The list after removing duplicates is: {unique_list}\")\u001b[0m\n\u001b[0m                                                                  ^\u001b[0m\n\u001b[0;31mSyntaxError\u001b[0m\u001b[0;31m:\u001b[0m incomplete input\n"
          ]
        }
      ]
    },
    {
      "cell_type": "code",
      "source": [],
      "metadata": {
        "id": "6aG6suyQaCaP"
      },
      "execution_count": null,
      "outputs": []
    },
    {
      "cell_type": "markdown",
      "source": [
        "12.write a python code to swap two number by not using any third variable"
      ],
      "metadata": {
        "id": "15NRib3lXtzW"
      }
    },
    {
      "cell_type": "code",
      "source": [],
      "metadata": {
        "id": "-NkiNt3GXuG3"
      },
      "execution_count": null,
      "outputs": []
    },
    {
      "cell_type": "code",
      "source": [
        "class Swapper:\n",
        "    def __init__(self, num1, num2):\n",
        "        self.num1 = num1\n",
        "        self.num2 = num2\n",
        "\n",
        "    def swap(self):\n",
        "        self.num1, self.num2 = self.num2, self.num1\n",
        "\n",
        "    def display_result(self):\n",
        "        print(f\"Before swapping: num1 = {self.num1}, num2 = {self.num2}\")\n",
        "        self.swap()\n",
        "        print(f\"After swapping: num1 = {self.num1}, num2 = {self.num2}\")\n",
        "\n",
        "# Example usage:\n",
        "num1 = int(input(\"Enter first number: \"))\n",
        "num2 = int(input(\"Enter second number: \"))\n",
        "\n",
        "swapper = Swapper(num1, num2)\n",
        "swapper.display_result()\n"
      ],
      "metadata": {
        "id": "XouxGYLfZsat",
        "colab": {
          "base_uri": "https://localhost:8080/"
        },
        "outputId": "dd467a0d-3c1f-401a-a685-a71983a97a14"
      },
      "execution_count": null,
      "outputs": [
        {
          "output_type": "stream",
          "name": "stdout",
          "text": [
            "Enter first number: 3\n",
            "Enter second number: 6\n",
            "Before swapping: num1 = 3, num2 = 6\n",
            "After swapping: num1 = 6, num2 = 3\n"
          ]
        }
      ]
    }
  ]
}