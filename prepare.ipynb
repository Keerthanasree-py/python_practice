{
  "nbformat": 4,
  "nbformat_minor": 0,
  "metadata": {
    "colab": {
      "provenance": []
    },
    "kernelspec": {
      "name": "python3",
      "display_name": "Python 3"
    },
    "language_info": {
      "name": "python"
    }
  },
  "cells": [
    {
      "cell_type": "code",
      "execution_count": null,
      "metadata": {
        "id": "OBLa_Ay2OI3r"
      },
      "outputs": [],
      "source": []
    },
    {
      "cell_type": "markdown",
      "source": [
        "1.what is python?and why its popular?\n",
        "python is a easy coding\n",
        "python is a feasible to use\n",
        "its user friendly\n",
        "frames works,libarbary panda\n",
        "\n",
        "\n"
      ],
      "metadata": {
        "id": "LgKDXC8AOWlC"
      }
    },
    {
      "cell_type": "markdown",
      "source": [
        "2.ide ?few popular pythons ides?\n",
        "  ide-intergrated development enviromnent\n",
        "  ide is used to develop code effecient\n",
        "\n",
        "google collab,anakonda,juipter"
      ],
      "metadata": {
        "id": "JMFhjs7jPJAO"
      }
    },
    {
      "cell_type": "markdown",
      "source": [
        "3.rules for naming variables in python?\n",
        "1.aphla_numeric\n",
        "2.case sentative\n",
        "3.dont use special keywords\n",
        "4.dont use digits\n",
        "5.dont use specific charaacters except (_) underscore"
      ],
      "metadata": {
        "id": "T-MFWTr0PUa8"
      }
    },
    {
      "cell_type": "markdown",
      "source": [
        "4.how do u assign multiple values to multiple variables in asingle lines?\n",
        "x=y=z=1=2=3"
      ],
      "metadata": {
        "id": "Lkmg8mLdQjjd"
      }
    },
    {
      "cell_type": "markdown",
      "source": [
        "5.can you use python keywords as varbles names?why or why not?\n",
        "we cant because its dont use keywords by varables rules"
      ],
      "metadata": {
        "id": "wqCfe84lRCPi"
      }
    },
    {
      "cell_type": "markdown",
      "source": [
        "6.why r comments importantin programming?\n",
        "because for better understanding for users"
      ],
      "metadata": {
        "id": "nDkQtqprR4zK"
      }
    },
    {
      "cell_type": "markdown",
      "source": [
        "7.what r the basis data types in python?\n",
        "init,\n",
        "boolean,float,complex"
      ],
      "metadata": {
        "id": "cyOF88AlSYli"
      }
    },
    {
      "cell_type": "markdown",
      "source": [
        "8.how do u convert a string to an integer in python?"
      ],
      "metadata": {
        "id": "C29qe7fsSxQd"
      }
    },
    {
      "cell_type": "code",
      "source": [
        "str=('567')\n",
        "print(type(int(str)))"
      ],
      "metadata": {
        "colab": {
          "base_uri": "https://localhost:8080/"
        },
        "id": "ZiPm8MsKryAq",
        "outputId": "cfa8ee80-44b4-4ead-c807-9e9a1a7237ae"
      },
      "execution_count": null,
      "outputs": [
        {
          "output_type": "stream",
          "name": "stdout",
          "text": [
            "<class 'int'>\n"
          ]
        }
      ]
    },
    {
      "cell_type": "markdown",
      "source": [
        "9.whatis the difference b\\w int and float?\n",
        "int=numbers (!,2,3,)\n",
        "float= decial values (22.1,33.3)"
      ],
      "metadata": {
        "id": "LPYlYWecSxT2"
      }
    },
    {
      "cell_type": "markdown",
      "source": [
        "10.how do you check the data types of a variable?\n"
      ],
      "metadata": {
        "id": "rr4XVkDbSxxv"
      }
    },
    {
      "cell_type": "code",
      "source": [
        "a=(1,)\n",
        "print (type(a))"
      ],
      "metadata": {
        "colab": {
          "base_uri": "https://localhost:8080/"
        },
        "id": "rCBwuUCdVNZy",
        "outputId": "cd0d50cc-c58f-4692-b074-66d4a501f82c"
      },
      "execution_count": null,
      "outputs": [
        {
          "output_type": "stream",
          "name": "stdout",
          "text": [
            "<class 'tuple'>\n"
          ]
        }
      ]
    },
    {
      "cell_type": "markdown",
      "source": [
        "11.how do u add an element to a list ?\n",
        "by add method +"
      ],
      "metadata": {
        "id": "3iH7DUliVcNy"
      }
    },
    {
      "cell_type": "markdown",
      "source": [
        "12.how do u create a tuple with one element?\n",
        "with comma ,\n"
      ],
      "metadata": {
        "id": "hTMU1jEoVwsJ"
      }
    },
    {
      "cell_type": "code",
      "source": [
        "a=(1,)\n",
        "print (type(a))"
      ],
      "metadata": {
        "colab": {
          "base_uri": "https://localhost:8080/"
        },
        "id": "urmWnhBVsXsz",
        "outputId": "7c582a80-5d44-46ee-e4ed-63e9f1787af9"
      },
      "execution_count": null,
      "outputs": [
        {
          "output_type": "stream",
          "name": "stdout",
          "text": [
            "<class 'tuple'>\n"
          ]
        }
      ]
    },
    {
      "cell_type": "markdown",
      "source": [
        "13.how do you access a value in a dic using a key?\n",
        "insert,"
      ],
      "metadata": {
        "id": "0PAJkDK4WCcm"
      }
    },
    {
      "cell_type": "code",
      "source": [
        "person={'name':'k','age':22}\n",
        "print(person.keys())"
      ],
      "metadata": {
        "colab": {
          "base_uri": "https://localhost:8080/"
        },
        "id": "_xeb8OUDw7dK",
        "outputId": "fa2e32df-07fd-4e4b-d4fc-e020d1761aae"
      },
      "execution_count": null,
      "outputs": [
        {
          "output_type": "stream",
          "name": "stdout",
          "text": [
            "dict_keys(['name', 'age'])\n"
          ]
        }
      ]
    },
    {
      "cell_type": "markdown",
      "source": [
        "14.how do u access elemenys in a list?\n",
        "by indexs\n"
      ],
      "metadata": {
        "id": "s5Cdi1kKVwub"
      }
    },
    {
      "cell_type": "markdown",
      "source": [
        "15.how d u access a character in a string?\n",
        "by []square brackets"
      ],
      "metadata": {
        "id": "OYJw_ctVVwx1"
      }
    },
    {
      "cell_type": "markdown",
      "source": [
        "16. how do u format strings in python?\n",
        "'',\"\",\"\"\" \"\"\" double quotes\n",
        "{} braces"
      ],
      "metadata": {
        "id": "Mta3L322XU2W"
      }
    },
    {
      "cell_type": "markdown",
      "source": [
        "17. what is a tuples and different from list?\n",
        "its inmutuable,and separates with comma,{}--tuple\n",
        "its mutuable ,comma ,[]--list\n"
      ],
      "metadata": {
        "id": "v90xmOsUXU5u"
      }
    },
    {
      "cell_type": "markdown",
      "source": [
        "18.how do u concanerate two tuples?\n",
        "by adding+\n",
        "tup1+tup2"
      ],
      "metadata": {
        "id": "zvY9kFyFZYeI"
      }
    },
    {
      "cell_type": "markdown",
      "source": [
        "19.how do u access values in a dic?\n",
        "by get()\n"
      ],
      "metadata": {
        "id": "whGQmatEZYhN"
      }
    },
    {
      "cell_type": "markdown",
      "source": [
        "20.How do you add a key-value pair to a dictionary? update"
      ],
      "metadata": {
        "id": "XICigMG-aN0D"
      }
    },
    {
      "cell_type": "markdown",
      "source": [
        "21) How do you remove a key-value pair from a dictionary?\n",
        "pop()"
      ],
      "metadata": {
        "id": "bu5kinzyaN24"
      }
    },
    {
      "cell_type": "markdown",
      "source": [
        "22) How do you add an element to a set?\n",
        "by using add method\n"
      ],
      "metadata": {
        "id": "hlW-RKp-hLMQ"
      }
    },
    {
      "cell_type": "markdown",
      "source": [
        "23) How do you remove an element from a set?clear method"
      ],
      "metadata": {
        "id": "Hkre-LDzhUpC"
      }
    },
    {
      "cell_type": "markdown",
      "source": [
        "24) What are the common set operations in Python?\n",
        "union, intersection,difference,symmetric difference"
      ],
      "metadata": {
        "id": "Bad42321hZzo"
      }
    },
    {
      "cell_type": "markdown",
      "source": [
        "25) Write a Python program to find the index of an element in a tuple?"
      ],
      "metadata": {
        "id": "1Fl-GjUbhffr"
      }
    },
    {
      "cell_type": "code",
      "source": [
        "t1=('a','b','c','d','e')\n",
        "print(t1[1])\n",
        "print(t1[2])\n"
      ],
      "metadata": {
        "colab": {
          "base_uri": "https://localhost:8080/"
        },
        "id": "R1mppBUgmmXg",
        "outputId": "3b9b4bbf-1825-48a1-8634-0c052c6517d5"
      },
      "execution_count": null,
      "outputs": [
        {
          "output_type": "stream",
          "name": "stdout",
          "text": [
            "b\n",
            "c\n"
          ]
        }
      ]
    }
  ]
}