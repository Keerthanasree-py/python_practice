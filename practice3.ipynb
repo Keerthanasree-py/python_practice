{
  "nbformat": 4,
  "nbformat_minor": 0,
  "metadata": {
    "colab": {
      "provenance": []
    },
    "kernelspec": {
      "name": "python3",
      "display_name": "Python 3"
    },
    "language_info": {
      "name": "python"
    }
  },
  "cells": [
    {
      "cell_type": "markdown",
      "source": [
        "**code to convert list into string**"
      ],
      "metadata": {
        "id": "EF7wcXf6PnTj"
      }
    },
    {
      "cell_type": "code",
      "execution_count": 2,
      "metadata": {
        "colab": {
          "base_uri": "https://localhost:8080/"
        },
        "id": "T0xlELS3O7-O",
        "outputId": "1462caf5-ea8d-4de2-e8dd-c01a8bc10d49"
      },
      "outputs": [
        {
          "output_type": "stream",
          "name": "stdout",
          "text": [
            "hello\n"
          ]
        }
      ],
      "source": [
        "lst=['h','e','l','l''o']\n",
        "words=''.join(lst)\n",
        "print(words)\n"
      ]
    },
    {
      "cell_type": "markdown",
      "source": [
        "**area of triangle**"
      ],
      "metadata": {
        "id": "-W3WbDQtPl92"
      }
    },
    {
      "cell_type": "code",
      "source": [
        "b=int(input(\"enter the base:\"))\n",
        "h=int(input(\"enter the height:\"))\n",
        "a=1/2*b*h\n",
        "print(a)"
      ],
      "metadata": {
        "colab": {
          "base_uri": "https://localhost:8080/"
        },
        "id": "whpdwsaIPyhK",
        "outputId": "9b03bc04-ca21-49cb-e26a-c4ef988cf4ce"
      },
      "execution_count": 3,
      "outputs": [
        {
          "output_type": "stream",
          "name": "stdout",
          "text": [
            "enter the base:5\n",
            "enter the height:6\n",
            "15.0\n"
          ]
        }
      ]
    },
    {
      "cell_type": "markdown",
      "source": [
        "**triangles**"
      ],
      "metadata": {
        "id": "zojCNFqMP1vd"
      }
    },
    {
      "cell_type": "code",
      "source": [
        "a=int(input(\"enter the side 1:\"))\n",
        "b=int(input(\"enter the side 2:\"))\n",
        "c=int(input(\"enter the side 3:\"))\n",
        "\n",
        "if a**2 + b**2 == c**2:\n",
        "    print(\"This is a right-angle triangle.\")\n",
        "elif a**2 + b**2 > c**2:\n",
        "    print(\"This is an acute-angle triangle.\")\n",
        "else:\n",
        "    print(\"This is an obtuse-angle triangle.\")"
      ],
      "metadata": {
        "colab": {
          "base_uri": "https://localhost:8080/"
        },
        "id": "JVC4j8kLP2jQ",
        "outputId": "3fb8aeeb-07af-484a-ba6d-4fcc7d39c15f"
      },
      "execution_count": 4,
      "outputs": [
        {
          "output_type": "stream",
          "name": "stdout",
          "text": [
            "enter the side 1:8\n",
            "enter the side 2:10\n",
            "enter the side 3:11\n",
            "This is an acute-angle triangle.\n"
          ]
        }
      ]
    },
    {
      "cell_type": "code",
      "source": [
        "a=int(input(\"enter the angle1:\"))\n",
        "\n",
        "if a < 90 and a>0:\n",
        "    print(\"Acute Triangle\")\n",
        "elif a == 90:\n",
        "    print(\"Right Triangle\")\n",
        "else:\n",
        "    print(\"Obtuse Triangle\")"
      ],
      "metadata": {
        "colab": {
          "base_uri": "https://localhost:8080/"
        },
        "id": "MnMS1afNP6Es",
        "outputId": "4b70e2cc-0a64-4ef0-ce70-19a7ecce4fb6"
      },
      "execution_count": 5,
      "outputs": [
        {
          "output_type": "stream",
          "name": "stdout",
          "text": [
            "enter the angle1:60\n",
            "Acute Triangle\n"
          ]
        }
      ]
    },
    {
      "cell_type": "code",
      "source": [
        "angle1=int(input(\"enter the angle1:\"))\n",
        "angle2=int(input(\"enter the angle2:\"))\n",
        "angle3=int(input(\"enter the angle3:\"))\n",
        "\n",
        "if angle1 < 90 and angle2 < 90 and angle3 < 90:\n",
        "    print(\"Acute Triangle\")\n",
        "elif angle1 == 90 or angle2 == 90 or angle3 == 90:\n",
        "    print(\"Right Triangle\")\n",
        "else:\n",
        "    print(\"Obtuse Triangle\")"
      ],
      "metadata": {
        "colab": {
          "base_uri": "https://localhost:8080/"
        },
        "id": "JX4DCMH5P6IE",
        "outputId": "94fefe54-2103-4f29-9704-d974bf182f6c"
      },
      "execution_count": 6,
      "outputs": [
        {
          "output_type": "stream",
          "name": "stdout",
          "text": [
            "enter the angle1:99\n",
            "enter the angle2:77\n",
            "enter the angle3:88\n",
            "Obtuse Triangle\n"
          ]
        }
      ]
    },
    {
      "cell_type": "markdown",
      "source": [
        "**create the simple calculator**"
      ],
      "metadata": {
        "id": "T8_2zrh4QJPJ"
      }
    },
    {
      "cell_type": "code",
      "source": [
        "class Calculator:\n",
        "    def add(self, x, y):\n",
        "        print(x + y)\n",
        "\n",
        "    def sub(self, x, y):\n",
        "        print(x - y)\n",
        "\n",
        "    def mul(self, x, y):\n",
        "        print(x * y)\n",
        "\n",
        "    def div(self, x, y):\n",
        "        print(x / y)\n",
        "x = Calculator()\n",
        "x.add(4, 5)\n",
        "x.sub(10, 3)\n",
        "x.mul(6, 7)\n",
        "x.div(8, 2)\n",
        "x.div(8, 8)"
      ],
      "metadata": {
        "colab": {
          "base_uri": "https://localhost:8080/"
        },
        "id": "erL8TKwEQKT7",
        "outputId": "aa3eee17-3395-4aa5-82f2-2ddcafa9deef"
      },
      "execution_count": 7,
      "outputs": [
        {
          "output_type": "stream",
          "name": "stdout",
          "text": [
            "9\n",
            "7\n",
            "42\n",
            "4.0\n",
            "1.0\n"
          ]
        }
      ]
    },
    {
      "cell_type": "markdown",
      "source": [
        "**class to represent movie with attributes like mve title ,director and rating**"
      ],
      "metadata": {
        "id": "fXO3xFEOQRwN"
      }
    },
    {
      "cell_type": "code",
      "source": [
        "class Movie:\n",
        "    def __init__(self, title, director, rating):\n",
        "        self.title = title\n",
        "        self.director = director\n",
        "        self.rating = rating\n",
        "\n",
        "    def __str__(self):\n",
        "        return f\"Title: {self.title}, Director: {self.director}, Rating: {self.rating}\"\n",
        "\n",
        "\n",
        "movie1 = Movie(\"t1\", \"d1\",\"r1\")\n",
        "print(movie1)"
      ],
      "metadata": {
        "colab": {
          "base_uri": "https://localhost:8080/"
        },
        "id": "4EqJmRDSQVoP",
        "outputId": "cc06d2c6-df38-43e1-b839-3e47fc3e5e5d"
      },
      "execution_count": 1,
      "outputs": [
        {
          "output_type": "stream",
          "name": "stdout",
          "text": [
            "Title: t1, Director: d1, Rating: r1\n"
          ]
        }
      ]
    },
    {
      "cell_type": "markdown",
      "source": [
        "create a class attribute to represent different types of vehicles with their own attributes"
      ],
      "metadata": {
        "id": "_Etnm0euQfva"
      }
    },
    {
      "cell_type": "code",
      "source": [
        "class Vehicle:\n",
        "    def __init__(self, make, model):\n",
        "        self.make = make\n",
        "        self.model = model\n",
        "\n",
        "class Car(Vehicle):\n",
        "    def __init__(self, make, model, doors):\n",
        "        self.make = make\n",
        "        self.model = model\n",
        "        self.doors = doors\n",
        "\n",
        "class Truck(Vehicle):\n",
        "    def __init__(self,make,model,capacity):\n",
        "        self.make = make\n",
        "        self.model = model\n",
        "        self.capacity = capacity\n",
        "\n",
        "class Bike(Vehicle):\n",
        "    def __init__(self, make, model, engine_cc):\n",
        "        self.make = make\n",
        "        self.model = model\n",
        "        self.engine_cc = engine_cc\n",
        "\n",
        "class Bicycle(Vehicle):\n",
        "    def __init__(self, make, model, has_gears):\n",
        "        self.make = make\n",
        "        self.model = model\n",
        "        self.has_gears = has_gears\n",
        "\n",
        "class Bus(Vehicle):\n",
        "    def __init__(self, make, model, seating_capacity):\n",
        "        self.make = make\n",
        "        self.model = model\n",
        "        self.seating_capacity = seating_capacity"
      ],
      "metadata": {
        "id": "GYiH5STIQcan"
      },
      "execution_count": 8,
      "outputs": []
    },
    {
      "cell_type": "code",
      "source": [
        "car = Car(\"Toyota\", \"Camry\", 4)\n",
        "print(f\"Car: {car.make} {car.model}, Doors: {car.doors}\")\n",
        "\n",
        "truck = Truck(\"Volvo\", \"Globetrotter\", 1000)\n",
        "print(f\"Truck: {truck.make}, Model: {truck.model}, Capacity: {truck.capacity} lbs\")\n",
        "\n",
        "bike = Bike(\"Royal Enfield\", \"Classic 360\", 883)\n",
        "print(f\"Bike: {bike.make}, Model: {bike.model}, Engine: {bike.engine_cc} cc\")\n",
        "\n",
        "bicycle = Bicycle(\"Giant\", \"Escape 3\", True)\n",
        "print(f\"Bicycle: {bicycle.make}, Model: {bicycle.model}, Has Gears: {bicycle.has_gears}\")\n",
        "\n",
        "bus = Bus(\"Mercedes-Benz\", \"Citaro\", 50)\n",
        "print(f\"Bus: {bus.make}, Model: {bus.model}, Seating Capacity: {bus.seating_capacity}\")"
      ],
      "metadata": {
        "colab": {
          "base_uri": "https://localhost:8080/"
        },
        "id": "hb_IU54WQsdy",
        "outputId": "b53bfdc2-06b6-437f-e4fe-2dd12d837551"
      },
      "execution_count": 9,
      "outputs": [
        {
          "output_type": "stream",
          "name": "stdout",
          "text": [
            "Car: Toyota Camry, Doors: 4\n",
            "Truck: Volvo, Model: Globetrotter, Capacity: 1000 lbs\n",
            "Bike: Royal Enfield, Model: Classic 360, Engine: 883 cc\n",
            "Bicycle: Giant, Model: Escape 3, Has Gears: True\n",
            "Bus: Mercedes-Benz, Model: Citaro, Seating Capacity: 50\n"
          ]
        }
      ]
    }
  ]
}